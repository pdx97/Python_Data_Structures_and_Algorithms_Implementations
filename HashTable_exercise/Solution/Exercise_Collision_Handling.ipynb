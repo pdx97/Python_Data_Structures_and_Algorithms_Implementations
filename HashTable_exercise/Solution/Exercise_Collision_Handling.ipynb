{
 "cells": [
  {
   "cell_type": "markdown",
   "metadata": {},
   "source": [
    "<h3> Question 1 :nyc_weather.csv contains new york city weather for first few days in the month of January. Write a program that can answer following</h3>\n",
    "<ol>\n",
    "    <li>What was the average temperature in first week of Jan</li>\n",
    "    <li>What was the maximum temperature in first 10 days of Jan</li>\n",
    "    </ol>\n",
    "    "
   ]
  },
  {
   "cell_type": "code",
   "execution_count": 64,
   "metadata": {},
   "outputs": [
    {
     "name": "stdout",
     "output_type": "stream",
     "text": [
      "Invalid temperature.Ignore the row\n"
     ]
    }
   ],
   "source": [
    "nyc_weather = []\n",
    "\n",
    "with open(\"C:/Users/prakhar/Desktop/nyc_weather.csv\",\"r\") as f:\n",
    "    for line in f:\n",
    "        tokens = line.split(',')\n",
    "        try:\n",
    "            temperature = int(tokens[1])\n",
    "            nyc_weather.append(temperature)\n",
    "        except:\n",
    "            print(\"Invalid temperature.Ignore the row\")"
   ]
  },
  {
   "cell_type": "code",
   "execution_count": 65,
   "metadata": {},
   "outputs": [
    {
     "data": {
      "text/plain": [
       "[27, 31, 23, 34, 37, 38, 29, 30, 35, 30]"
      ]
     },
     "execution_count": 65,
     "metadata": {},
     "output_type": "execute_result"
    }
   ],
   "source": [
    "nyc_weather"
   ]
  },
  {
   "cell_type": "code",
   "execution_count": 66,
   "metadata": {},
   "outputs": [],
   "source": [
    "length = len(nyc_weather)"
   ]
  },
  {
   "cell_type": "code",
   "execution_count": 67,
   "metadata": {},
   "outputs": [
    {
     "name": "stdout",
     "output_type": "stream",
     "text": [
      "31.285714285714285\n"
     ]
    }
   ],
   "source": [
    "sum = 0\n",
    "for itr in range(0,len(nyc_weather)-3):\n",
    "    sum = sum + nyc_weather[itr]\n",
    "\n",
    "    \n",
    "print(sum/(itr+1))\n"
   ]
  },
  {
   "cell_type": "code",
   "execution_count": 68,
   "metadata": {},
   "outputs": [
    {
     "data": {
      "text/plain": [
       "38"
      ]
     },
     "execution_count": 68,
     "metadata": {},
     "output_type": "execute_result"
    }
   ],
   "source": [
    "max(nyc_weather)"
   ]
  },
  {
   "cell_type": "markdown",
   "metadata": {},
   "source": [
    "<h3> Question 2 :nyc_weather.csv contains new york city weather for first few days in the month of January. Write a program that can answer following</h3>\n",
    "<ol>\n",
    "    <li>What was the temperature on Jan 9</li>\n",
    "    <li>What was the temperature on Jan 4</li>\n",
    "    </ol>"
   ]
  },
  {
   "cell_type": "code",
   "execution_count": 69,
   "metadata": {},
   "outputs": [
    {
     "name": "stdout",
     "output_type": "stream",
     "text": [
      "Invalid temperature.Ignore the row\n"
     ]
    }
   ],
   "source": [
    "nyc_weather = {} #initializing a dictionary\n",
    "\n",
    "with open(\"C:/Users/prakhar/Desktop/nyc_weather.csv\",\"r\") as f:\n",
    "    for line in f:\n",
    "        tokens = line.split(',')\n",
    "        try:\n",
    "            date = tokens[0]\n",
    "            temperature = int(tokens[1])\n",
    "            nyc_weather[date] = temperature\n",
    "        except:\n",
    "            print(\"Invalid temperature.Ignore the row\")"
   ]
  },
  {
   "cell_type": "code",
   "execution_count": 70,
   "metadata": {},
   "outputs": [
    {
     "data": {
      "text/plain": [
       "{'Jan 1': 27,\n",
       " 'Jan 2': 31,\n",
       " 'Jan 3': 23,\n",
       " 'Jan 4': 34,\n",
       " 'Jan 5': 37,\n",
       " 'Jan 6': 38,\n",
       " 'Jan 7': 29,\n",
       " 'Jan 8': 30,\n",
       " 'Jan 9': 35,\n",
       " 'Jan 10': 30}"
      ]
     },
     "execution_count": 70,
     "metadata": {},
     "output_type": "execute_result"
    }
   ],
   "source": [
    "nyc_weather"
   ]
  },
  {
   "cell_type": "code",
   "execution_count": 71,
   "metadata": {},
   "outputs": [
    {
     "data": {
      "text/plain": [
       "35"
      ]
     },
     "execution_count": 71,
     "metadata": {},
     "output_type": "execute_result"
    }
   ],
   "source": [
    "nyc_weather['Jan 9']"
   ]
  },
  {
   "cell_type": "code",
   "execution_count": 72,
   "metadata": {},
   "outputs": [
    {
     "data": {
      "text/plain": [
       "34"
      ]
     },
     "execution_count": 72,
     "metadata": {},
     "output_type": "execute_result"
    }
   ],
   "source": [
    "nyc_weather['Jan 4']"
   ]
  },
  {
   "cell_type": "markdown",
   "metadata": {},
   "source": [
    "<h3>Question no3: poem.txt Contains famous poem \"Road not taken\" by poet Robert Frost. You have to read this file in python and print every word and its count as show below. Think about the best data structure that you can use to solve this problem and figure out why you selected that specific data structure.</h3>\n",
    "<br>\n",
    "'diverged': 2,\n",
    " 'in': 3,\n",
    " 'I': 8</br>"
   ]
  },
  {
   "cell_type": "code",
   "execution_count": 74,
   "metadata": {},
   "outputs": [
    {
     "name": "stdout",
     "output_type": "stream",
     "text": [
      "Two : 2\n",
      "roads : 2\n",
      "diverged : 2\n",
      "in : 3\n",
      "a : 3\n",
      "yellow : 1\n",
      "wood, : 2\n",
      "And : 6\n",
      "sorry : 1\n",
      "I : 8\n",
      "could : 2\n",
      "not : 1\n",
      "travel : 1\n",
      "both : 2\n",
      "be : 2\n",
      "one : 3\n",
      "traveler, : 1\n",
      "long : 1\n",
      "stood : 1\n",
      "looked : 1\n",
      "down : 1\n",
      "as : 5\n",
      "far : 1\n",
      "To : 1\n",
      "where : 1\n",
      "it : 2\n",
      "bent : 1\n",
      "the : 8\n",
      "undergrowth; : 1\n",
      " : 3\n",
      "Then : 1\n",
      "took : 2\n",
      "other, : 1\n",
      "just : 1\n",
      "fair, : 1\n",
      "having : 1\n",
      "perhaps : 1\n",
      "better : 1\n",
      "claim, : 1\n",
      "Because : 1\n",
      "was : 1\n",
      "grassy : 1\n",
      "and : 3\n",
      "wanted : 1\n",
      "wear; : 1\n",
      "Though : 1\n",
      "for : 2\n",
      "that : 3\n",
      "passing : 1\n",
      "there : 1\n",
      "Had : 1\n",
      "worn : 1\n",
      "them : 1\n",
      "really : 1\n",
      "about : 1\n",
      "same, : 1\n",
      "morning : 1\n",
      "equally : 1\n",
      "lay : 1\n",
      "In : 1\n",
      "leaves : 1\n",
      "no : 1\n",
      "step : 1\n",
      "had : 1\n",
      "trodden : 1\n",
      "black. : 1\n",
      "Oh, : 1\n",
      "kept : 1\n",
      "first : 1\n",
      "another : 1\n",
      "day! : 1\n",
      "Yet : 1\n",
      "knowing : 1\n",
      "how : 1\n",
      "way : 1\n",
      "leads : 1\n",
      "on : 1\n",
      "to : 1\n",
      "way, : 1\n",
      "doubted : 1\n",
      "if : 1\n",
      "should : 1\n",
      "ever : 1\n",
      "come : 1\n",
      "back. : 1\n",
      "shall : 1\n",
      "telling : 1\n",
      "this : 1\n",
      "with : 1\n",
      "sigh : 1\n",
      "Somewhere : 1\n",
      "ages : 2\n",
      "hence: : 1\n",
      "Iâ€” : 1\n",
      "less : 1\n",
      "traveled : 1\n",
      "by, : 1\n",
      "has : 1\n",
      "made : 1\n",
      "all : 1\n",
      "difference. : 1\n"
     ]
    }
   ],
   "source": [
    "# Open the file in read mode\n",
    "text = open(\"C:/Users/prakhar/Desktop/poem.txt\", \"r\")\n",
    "\n",
    "# Create an empty dictionary\n",
    "d = {}\n",
    "\n",
    "# Loop through each line of the file\n",
    "for line in text:\n",
    "    # Remove the leading spaces and newline character\n",
    "    line = line.strip()\n",
    "\n",
    "    # Split the line into words\n",
    "    words = line.split(\" \")\n",
    "\n",
    "    # Iterate over each word in line\n",
    "    for word in words:\n",
    "        # Check if the word is already in dictionary\n",
    "        if word in d:\n",
    "            # Increment count of word by 1\n",
    "            d[word] = d[word] + 1\n",
    "        else:\n",
    "            # Add the word to dictionary with count 1\n",
    "            d[word] = 1\n",
    "\n",
    "# Print the contents of dictionary\n",
    "for key in list(d.keys()):\n",
    "    print(key, \":\", d[key])\n"
   ]
  },
  {
   "cell_type": "code",
   "execution_count": null,
   "metadata": {},
   "outputs": [],
   "source": []
  },
  {
   "cell_type": "code",
   "execution_count": null,
   "metadata": {},
   "outputs": [],
   "source": []
  },
  {
   "cell_type": "code",
   "execution_count": null,
   "metadata": {},
   "outputs": [],
   "source": []
  }
 ],
 "metadata": {
  "kernelspec": {
   "display_name": "Python 3",
   "language": "python",
   "name": "python3"
  },
  "language_info": {
   "codemirror_mode": {
    "name": "ipython",
    "version": 3
   },
   "file_extension": ".py",
   "mimetype": "text/x-python",
   "name": "python",
   "nbconvert_exporter": "python",
   "pygments_lexer": "ipython3",
   "version": "3.8.5"
  }
 },
 "nbformat": 4,
 "nbformat_minor": 4
}
